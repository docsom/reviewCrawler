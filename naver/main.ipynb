{
 "cells": [
  {
   "cell_type": "code",
   "execution_count": 1,
   "metadata": {},
   "outputs": [],
   "source": [
    "import requests\n",
    "\n",
    "headers = {\n",
    "    'authority': 'smartstore.naver.com',\n",
    "    'accept': 'application/json, text/plain, */*',\n",
    "    'accept-language': 'ko',\n",
    "    'content-type': 'application/json;charset=UTF-8',\n",
    "    'origin': 'https://smartstore.naver.com',\n",
    "    'referer': 'https://smartstore.naver.com/cakefactoryd/products/6960829129',\n",
    "    'sec-ch-ua': '\"Microsoft Edge\";v=\"105\", \" Not;A Brand\";v=\"99\", \"Chromium\";v=\"105\"',\n",
    "    'sec-ch-ua-mobile': '?0',\n",
    "    'sec-ch-ua-platform': '\"Windows\"',\n",
    "    'sec-fetch-dest': 'empty',\n",
    "    'sec-fetch-mode': 'cors',\n",
    "    'sec-fetch-site': 'same-origin',\n",
    "    'user-agent': 'Mozilla/5.0 (Windows NT 10.0; Win64; x64) AppleWebKit/537.36 (KHTML, like Gecko) Chrome/105.0.0.0 Safari/537.36 Edg/105.0.1343.42',\n",
    "}\n",
    "\n",
    "json_data = {\n",
    "    'page': 1,\n",
    "    'pageSize': 20,\n",
    "    'merchantNo': '500277973',\n",
    "    'originProductNo': '6927704063',\n",
    "    'sortType': 'REVIEW_RANKING',\n",
    "}\n",
    "\n",
    "response = requests.post('https://smartstore.naver.com/i/v1/reviews/paged-reviews', headers=headers, json=json_data)"
   ]
  },
  {
   "cell_type": "code",
   "execution_count": 2,
   "metadata": {},
   "outputs": [
    {
     "data": {
      "text/plain": [
       "dict_keys(['contents', 'page', 'size', 'totalElements', 'totalPages', 'sort', 'first', 'last'])"
      ]
     },
     "execution_count": 2,
     "metadata": {},
     "output_type": "execute_result"
    }
   ],
   "source": [
    "data = response.json()\n",
    "data.keys()"
   ]
  },
  {
   "cell_type": "code",
   "execution_count": 3,
   "metadata": {},
   "outputs": [
    {
     "data": {
      "text/plain": [
       "'생일자가 많이 겹쳐서 케익 두개 주문하였습니다 \\n일반 케이크보다 추억이 될 거 같아서 선택했어요 \\n사실 예전에 사진들어간 케이크 주문했었는데 \\n\\n기억에 나쁘지 않아 두번째로 구입하였답니다 \\n글씨 제한이 짧고 글씨체가 랜덤이라는 점이 \\n조금은 아쉽지만 믿고 맡기는 수 밖에 없었어요 \\n\\n미리 주문해서 제때에 잘 받았고 \\n첫사진이 받자마자 개봉한 모습인데 왼쪽 민트는 \\n너무 예쁘게 잘 도착했지만 오른쪽 보라색은 딱봐도\\n많이 밀려있어서 속상했어요 ..^^\\n\\n물론 신경써서 검수하고 포장해서 보내주셨겠지만\\n배송과정이든 어떻게 됐든 소비자 입장에서는 \\n아쉬움을 감출수가 없네요&hellip; \\n\\n이미 날짜를 맞춰서 선물을 해야하고 반품하기도 힘들고 \\n속상할수도 있겠어요 많이 개선되었으면 좋겠습니다 \\n\\n케이크가 좀 밀린거 빼면 사진찍기도 너무 예쁘고 \\n심지어 맛도 좋아요~~ 부모님도 드셔보고 맛있다고 \\n창찬했답니다❣️ 완전 성공적이에요'"
      ]
     },
     "execution_count": 3,
     "metadata": {},
     "output_type": "execute_result"
    }
   ],
   "source": [
    "data['contents'][0]['reviewContent']"
   ]
  },
  {
   "cell_type": "code",
   "execution_count": 4,
   "metadata": {},
   "outputs": [],
   "source": [
    "# data['contents'][0]"
   ]
  },
  {
   "cell_type": "code",
   "execution_count": 5,
   "metadata": {},
   "outputs": [],
   "source": [
    "from bs4 import BeautifulSoup\n",
    "from pprint import *\n",
    "category_id = 100002684\n",
    "page = 1\n",
    "url = 'https://search.shopping.naver.com/search/category/{}?origQuery&pagingIndex={}&pagingSize=80&productSet=total&query&sort=review&timestamp=&viewType=list'.format(category_id, page)\n",
    "\n",
    "headers = {\n",
    "    'authority': 'search.shopping.naver.com',\n",
    "    'accept': 'application/json, text/plain, */*',\n",
    "    'accept-language': 'ko',\n",
    "    'logic': 'PART',\n",
    "    'referer': url,\n",
    "    'sec-ch-ua': '\"Microsoft Edge\";v=\"105\", \" Not;A Brand\";v=\"99\", \"Chromium\";v=\"105\"',\n",
    "    'sec-ch-ua-mobile': '?0',\n",
    "    'sec-ch-ua-platform': '\"Windows\"',\n",
    "    'sec-fetch-dest': 'empty',\n",
    "    'sec-fetch-mode': 'cors',\n",
    "    'sec-fetch-site': 'same-origin',\n",
    "    'user-agent': 'Mozilla/5.0 (Windows NT 10.0; Win64; x64) AppleWebKit/537.36 (KHTML, like Gecko) Chrome/105.0.0.0 Safari/537.36 Edg/105.0.1343.50',\n",
    "}\n",
    "\n",
    "params = {\n",
    "    'sort': 'review',\n",
    "    'pagingIndex': '{}'.format(page),\n",
    "    'pagingSize': '80',\n",
    "    'viewType': 'list',\n",
    "    'productSet': 'total',\n",
    "    'catId': '50012960',\n",
    "    'spec': '',\n",
    "    'deliveryFee': '',\n",
    "    'deliveryTypeValue': '',\n",
    "    'iq': '',\n",
    "    'eq': '',\n",
    "    'xq': '',\n",
    "}\n",
    "\n",
    "response = requests.get('https://search.shopping.naver.com/api/search/category/{}'.format(category_id), params=params, headers=headers)"
   ]
  },
  {
   "cell_type": "code",
   "execution_count": 9,
   "metadata": {},
   "outputs": [],
   "source": [
    "response\n",
    "json_object = response.json()\n",
    "# pprint(json_object)"
   ]
  },
  {
   "cell_type": "code",
   "execution_count": 7,
   "metadata": {},
   "outputs": [
    {
     "name": "stdout",
     "output_type": "stream",
     "text": [
      "25895\n",
      "https://smartstore\n"
     ]
    }
   ],
   "source": [
    "print(json_object['shoppingResult']['products'][70]['reviewCount'])\n",
    "print(json_object['shoppingResult']['products'][0]['mallProductUrl'][:18])"
   ]
  },
  {
   "cell_type": "code",
   "execution_count": 8,
   "metadata": {},
   "outputs": [
    {
     "name": "stdout",
     "output_type": "stream",
     "text": [
      "c:\\Users\\CJ\\project\\review_crawler\\naver\n"
     ]
    }
   ],
   "source": [
    "import pandas as pd\n",
    "import os\n",
    "print(os.getcwd())\n",
    "# data = pd.read_csv('../100002454.csv', engine='c', encoding='utf-8-sig')\n",
    "# with open('../100002454.csv', mode='r', encoding='utf-8-sig', errors='ignore') as f:\n",
    "#     print(f.read())\n",
    "    "
   ]
  },
  {
   "cell_type": "code",
   "execution_count": null,
   "metadata": {},
   "outputs": [],
   "source": []
  }
 ],
 "metadata": {
  "kernelspec": {
   "display_name": "Python 3.9.5 64-bit",
   "language": "python",
   "name": "python3"
  },
  "language_info": {
   "codemirror_mode": {
    "name": "ipython",
    "version": 3
   },
   "file_extension": ".py",
   "mimetype": "text/x-python",
   "name": "python",
   "nbconvert_exporter": "python",
   "pygments_lexer": "ipython3",
   "version": "3.9.5"
  },
  "orig_nbformat": 4,
  "vscode": {
   "interpreter": {
    "hash": "81794d4967e6c3204c66dcd87b604927b115b27c00565d3d43f05ba2f3a2cb0d"
   }
  }
 },
 "nbformat": 4,
 "nbformat_minor": 2
}
