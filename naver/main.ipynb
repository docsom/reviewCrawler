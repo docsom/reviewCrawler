{
 "cells": [
  {
   "cell_type": "code",
   "execution_count": 2,
   "metadata": {},
   "outputs": [],
   "source": [
    "import requests\n",
    "\n",
    "cookies = {\n",
    "    'NID_AUT': 'hlcCjDBBfth27IPEsMK+7OWdkxWKATa236aORiMrpQi/aQGFSlS2F4kQvtAJx/am',\n",
    "    'NID_JKL': '7Dh1C3ZrvIbFdsM9f955aS+yDhIM9dadsuhbEFsABms=',\n",
    "    'NaverSuggestUse': 'use%26unuse',\n",
    "    'nx_ssl': '2',\n",
    "    'SBC': '35fecc84-7477-489a-98e8-22424106d4d8',\n",
    "    'BMR': 's=1663135968254&r=https%3A%2F%2Fm.blog.naver.com%2Fgassi00%2F222302178273&r2=https%3A%2F%2Fwww.google.com%2F',\n",
    "    'page_uid': 'hykGLwp0J1ZssgplRTGssssssHN-517530',\n",
    "    'NID_SES': 'AAABoAxt+wrjJ6vQxxoapZpUZFO/XctX792FOIJh1Xed9ycW3UIwL6tKhqN2NAijdwJ37w+Vzbr6jDWKK3RVXLtYqyfxYBf3nH+K8QSU9DmAa5yqwb2NBqO8HclR+8E8aMFcToYrjv4MYe96AsL/NVUK8EyEaGLsMiy7QVt7mCGauvFlDZCFSgfKs2+YCk2ZW1HzEwII29/i5UIyQCpCV3uFMlYLDO3zK3UIsDXBmEM5onHl3wBISf4ggnEi1VlMCT5jV1BrxPVwYdJLcCeI9806o14X5aSMCDzh+sQ8PlFrcg2TkRGilWLikkP758O11lnI9aKTj/CYrBHDSJdUvwaVE0BUJg09RDWXasbiikP2md7zBamXUld9Wyg3mGkZxD/v/z3ZWWG4xWdANd65NRWsjKS0NFmEeq2HvEikqMR9PQkCoeMnKqSbmAJB8pHSIdPEDzPEMXg9Dr1G9bE/ZSUOAWoXeMbn4Np+6fcpYMd4u+WR74pcugWpZgEkqMo0gWZu+HddfZ+sODmwb+Yl2cD5Cz84BzAksuQ3UnM61a/g1Lyt',\n",
    "}\n",
    "\n",
    "headers = {\n",
    "    'authority': 'smartstore.naver.com',\n",
    "    'accept': 'application/json, text/plain, */*',\n",
    "    'accept-language': 'ko,en;q=0.9,en-US;q=0.8',\n",
    "    'content-type': 'application/json;charset=UTF-8',\n",
    "    # Requests sorts cookies= alphabetically\n",
    "    # 'cookie': 'NID_AUT=hlcCjDBBfth27IPEsMK+7OWdkxWKATa236aORiMrpQi/aQGFSlS2F4kQvtAJx/am; NID_JKL=7Dh1C3ZrvIbFdsM9f955aS+yDhIM9dadsuhbEFsABms=; NaverSuggestUse=use%26unuse; nx_ssl=2; SBC=35fecc84-7477-489a-98e8-22424106d4d8; BMR=s=1663135968254&r=https%3A%2F%2Fm.blog.naver.com%2Fgassi00%2F222302178273&r2=https%3A%2F%2Fwww.google.com%2F; page_uid=hykGLwp0J1ZssgplRTGssssssHN-517530; NID_SES=AAABoAxt+wrjJ6vQxxoapZpUZFO/XctX792FOIJh1Xed9ycW3UIwL6tKhqN2NAijdwJ37w+Vzbr6jDWKK3RVXLtYqyfxYBf3nH+K8QSU9DmAa5yqwb2NBqO8HclR+8E8aMFcToYrjv4MYe96AsL/NVUK8EyEaGLsMiy7QVt7mCGauvFlDZCFSgfKs2+YCk2ZW1HzEwII29/i5UIyQCpCV3uFMlYLDO3zK3UIsDXBmEM5onHl3wBISf4ggnEi1VlMCT5jV1BrxPVwYdJLcCeI9806o14X5aSMCDzh+sQ8PlFrcg2TkRGilWLikkP758O11lnI9aKTj/CYrBHDSJdUvwaVE0BUJg09RDWXasbiikP2md7zBamXUld9Wyg3mGkZxD/v/z3ZWWG4xWdANd65NRWsjKS0NFmEeq2HvEikqMR9PQkCoeMnKqSbmAJB8pHSIdPEDzPEMXg9Dr1G9bE/ZSUOAWoXeMbn4Np+6fcpYMd4u+WR74pcugWpZgEkqMo0gWZu+HddfZ+sODmwb+Yl2cD5Cz84BzAksuQ3UnM61a/g1Lyt',\n",
    "    'origin': 'https://smartstore.naver.com',\n",
    "    'referer': 'https://smartstore.naver.com/raintato/products/5089990614', #https://smartstore.naver.com/thenaturefarmers/products/4627540101\n",
    "    'sec-ch-ua': '\"Microsoft Edge\";v=\"105\", \" Not;A Brand\";v=\"99\", \"Chromium\";v=\"105\"',\n",
    "    'sec-ch-ua-mobile': '?0',\n",
    "    'sec-ch-ua-platform': '\"Windows\"',\n",
    "    'sec-fetch-dest': 'empty',\n",
    "    'sec-fetch-mode': 'cors',\n",
    "    'sec-fetch-site': 'same-origin',\n",
    "    'user-agent': 'Mozilla/5.0 (Windows NT 10.0; Win64; x64) AppleWebKit/537.36 (KHTML, like Gecko) Chrome/105.0.0.0 Safari/537.36 Edg/105.0.1343.42',\n",
    "}\n",
    "\n",
    "json_data = {\n",
    "    'page': 1,\n",
    "    'pageSize': 20,\n",
    "    'merchantNo': '500158087', #510175401\n",
    "    'originProductNo': '5071615198', #4616869439\n",
    "    'sortType': 'REVIEW_RANKING',\n",
    "}\n",
    "\n",
    "response = requests.post('https://smartstore.naver.com/i/v1/reviews/paged-reviews', cookies=cookies, headers=headers, json=json_data)"
   ]
  },
  {
   "cell_type": "code",
   "execution_count": 3,
   "metadata": {},
   "outputs": [
    {
     "data": {
      "text/plain": [
       "dict_keys(['contents', 'page', 'size', 'totalElements', 'totalPages', 'sort', 'first', 'last'])"
      ]
     },
     "execution_count": 3,
     "metadata": {},
     "output_type": "execute_result"
    }
   ],
   "source": [
    "data = response.json()\n",
    "data.keys()"
   ]
  },
  {
   "cell_type": "code",
   "execution_count": 43,
   "metadata": {},
   "outputs": [
    {
     "data": {
      "text/plain": [
       "{'id': '4084806365',\n",
       " 'reviewType': 'NORMAL',\n",
       " 'reviewServiceType': 'SELLBLOG',\n",
       " 'reviewContentClassType': 'PHOTO',\n",
       " 'reviewScore': 5,\n",
       " 'reviewContent': '감자빵을 받을때마다 저는감동하군합니다. 이번에도 얼음팩이 전혀녹지않은 상태로 신선한 식품으로 받았습니다. 매번 어떻게 이런신선도가 보장되는지 이번에 맘먹고 배송현황을 시간마다 자세히 지켜봤더니 신선한 식품을 고객에게 전달하기위해  늦은밤(10시이후) 밤에 택배사에 발송되도록하였고  식품포장부터 배송지에 도착될때까지는 20시간도 안되여 배송받았던것입니다.  내돈주고 구매하지만 이런 정성에 너무 감동하고 고마웠습니다.~이번 추석에 친정에 갈때 집에 있던 감자빵을 모두 가지고가서 친척분들께 시식을 시켰드렸는데 너무 맛있다고들 하시는데 제 기분이 엄청 좋더라구요~~~^^ 빵을 만드시는 분들 모두 건강하셔서 이빵을 평생 먹을수있게 해주면 좋겠십니다~~~고맙습니다!^^',\n",
       " 'createDate': '2022-09-16T11:15:44.839+00:00',\n",
       " 'repurchase': True,\n",
       " 'reviewRankingScore': -69.7987,\n",
       " 'writerMemberNo': 0,\n",
       " 'checkoutMerchantId': '',\n",
       " 'checkoutMerchantNo': 0,\n",
       " 'orderNo': '',\n",
       " 'productOrderNo': '',\n",
       " 'productNo': '5089990614',\n",
       " 'productName': '전국에서 줄서먹는 춘천카페 감자밭 원조 감자빵 10개입 택배',\n",
       " 'productUrl': 'https://smartstore.naver.com/main/products/5089990614',\n",
       " 'largeCategorizeCategoryId': '50000006',\n",
       " 'middleCategorizeCategoryId': '50000149',\n",
       " 'smallCategorizeCategoryId': '50013260',\n",
       " 'productOptionContentNoDisplay': False,\n",
       " 'knowledgeShoppingMallProductId': '5089990614',\n",
       " 'originProductNo': 5071615198,\n",
       " 'reviewAttaches': [{'id': '3050097052',\n",
       "   'reviewAttachmentType': 'I',\n",
       "   'attachUrl': 'https://phinf.pstatic.net/checkout.phinf/20220916_47/1663326851042DRpMl_JPEG/20220916_162720.jpg',\n",
       "   'attachWidth': 3024,\n",
       "   'attachHeight': 4032,\n",
       "   'attachPath': 'https://phinf.pstatic.net/checkout.phinf/20220916_47/1663326851042DRpMl_JPEG/20220916_162720.jpg',\n",
       "   'attachSize': 3031471,\n",
       "   'attachDescription': '',\n",
       "   'sortOrder': 0,\n",
       "   'attachName': '20220916_162720.jpg',\n",
       "   'attachDirectoryName': '/20220916_47/1663326851042DRpMl_JPEG',\n",
       "   'attachmentType': 'I',\n",
       "   'width': 3024,\n",
       "   'height': 4032},\n",
       "  {'id': '3050097053',\n",
       "   'reviewAttachmentType': 'I',\n",
       "   'attachUrl': 'https://phinf.pstatic.net/checkout.phinf/20220916_197/1663326901282D7ebM_JPEG/20220916_162734.jpg',\n",
       "   'attachWidth': 4032,\n",
       "   'attachHeight': 3024,\n",
       "   'attachPath': 'https://phinf.pstatic.net/checkout.phinf/20220916_197/1663326901282D7ebM_JPEG/20220916_162734.jpg',\n",
       "   'attachSize': 3332425,\n",
       "   'attachDescription': '',\n",
       "   'sortOrder': 1,\n",
       "   'attachName': '20220916_162734.jpg',\n",
       "   'attachDirectoryName': '/20220916_197/1663326901282D7ebM_JPEG',\n",
       "   'attachmentType': 'I',\n",
       "   'width': 4032,\n",
       "   'height': 3024},\n",
       "  {'id': '3050097054',\n",
       "   'reviewAttachmentType': 'I',\n",
       "   'attachUrl': 'https://phinf.pstatic.net/checkout.phinf/20220916_2/1663326926131iH2Nf_JPEG/20220916_162758.jpg',\n",
       "   'attachWidth': 4032,\n",
       "   'attachHeight': 3024,\n",
       "   'attachPath': 'https://phinf.pstatic.net/checkout.phinf/20220916_2/1663326926131iH2Nf_JPEG/20220916_162758.jpg',\n",
       "   'attachSize': 3489154,\n",
       "   'attachDescription': '',\n",
       "   'sortOrder': 2,\n",
       "   'attachName': '20220916_162758.jpg',\n",
       "   'attachDirectoryName': '/20220916_2/1663326926131iH2Nf_JPEG',\n",
       "   'attachmentType': 'I',\n",
       "   'width': 4032,\n",
       "   'height': 3024},\n",
       "  {'id': '3050097055',\n",
       "   'reviewAttachmentType': 'I',\n",
       "   'attachUrl': 'https://phinf.pstatic.net/checkout.phinf/20220916_278/1663326938951mPD8d_JPEG/20220916_162813_HDR.jpg',\n",
       "   'attachWidth': 4032,\n",
       "   'attachHeight': 3024,\n",
       "   'attachPath': 'https://phinf.pstatic.net/checkout.phinf/20220916_278/1663326938951mPD8d_JPEG/20220916_162813_HDR.jpg',\n",
       "   'attachSize': 4245912,\n",
       "   'attachDescription': '',\n",
       "   'sortOrder': 3,\n",
       "   'attachName': '20220916_162813_HDR.jpg',\n",
       "   'attachDirectoryName': '/20220916_278/1663326938951mPD8d_JPEG',\n",
       "   'attachmentType': 'I',\n",
       "   'width': 4032,\n",
       "   'height': 3024}],\n",
       " 'reviewCommentIds': [3014329210],\n",
       " 'reviewComments': [{'reviewId': '4084806365',\n",
       "   'commentContent': '안녕하세요 감자밭입니다.\\n감자빵을 정성을 다해 만들고 있는 만큼 고객님의 마음을 담은 리뷰에 감동이 밀려옵니다😭\\n저희 밭의 진심과 정성을 알아주셔서 너무 감사드려요-😍\\n식품이다보니 안전하게 도착하길 바라는 마음으로 신경쓰고 있답니다-\\n고객님의 응원에 힘입어 앞으로도 맛있고 만족하실 수 있는 감자밭의 감자빵이 될 수 있도록 꾸준히 변함없이 노력하겠습니다!\\n다시한번 소중한 리뷰 감자합니다🧡',\n",
       "   'createDate': '2022-09-18T07:19:41.096+00:00',\n",
       "   'writerMerchantId': '',\n",
       "   'writerMerchantNo': 0,\n",
       "   'id': 3014329210,\n",
       "   'displayStatusType': 'NORMAL',\n",
       "   'unescapeCommentContent': '안녕하세요 감자밭입니다.\\n감자빵을 정성을 다해 만들고 있는 만큼 고객님의 마음을 담은 리뷰에 감동이 밀려옵니다😭\\n저희 밭의 진심과 정성을 알아주셔서 너무 감사드려요-😍\\n식품이다보니 안전하게 도착하길 바라는 마음으로 신경쓰고 있답니다-\\n고객님의 응원에 힘입어 앞으로도 맛있고 만족하실 수 있는 감자밭의 감자빵이 될 수 있도록 꾸준히 변함없이 노력하겠습니다!\\n다시한번 소중한 리뷰 감자합니다🧡',\n",
       "   'reviewSeq': 4084806365,\n",
       "   'reviewCommentId': 3014329210,\n",
       "   'reviewCommentDisplayStatusType': 'NORMAL'}],\n",
       " 'reviewTopics': [{'topicCode': 'total',\n",
       "   'topicCodeName': '만족도',\n",
       "   'patternStartNo': 13,\n",
       "   'patternEndNo': 19,\n",
       "   'startIdx': 13,\n",
       "   'endIdx': 19},\n",
       "  {'topicCode': 'total',\n",
       "   'topicCodeName': '만족도',\n",
       "   'patternStartNo': 221,\n",
       "   'patternEndNo': 224,\n",
       "   'startIdx': 221,\n",
       "   'endIdx': 224},\n",
       "  {'topicCode': 'taste',\n",
       "   'topicCodeName': '맛',\n",
       "   'patternStartNo': 285,\n",
       "   'patternEndNo': 297,\n",
       "   'startIdx': 285,\n",
       "   'endIdx': 297},\n",
       "  {'topicCode': 'total',\n",
       "   'topicCodeName': '만족도',\n",
       "   'patternStartNo': 299,\n",
       "   'patternEndNo': 312,\n",
       "   'startIdx': 299,\n",
       "   'endIdx': 312}],\n",
       " 'eventTitle': '',\n",
       " 'reviewDisplayStatusType': 'NORMAL',\n",
       " 'freeTrialReview': False,\n",
       " 'writerMemberId': 'rssr*****',\n",
       " 'writerMemberMaskedId': 'rssr*****',\n",
       " 'writerMemberIdNo': '',\n",
       " 'writerMemberProfileImageUrl': 'https://profile-phinf.pstatic.net/404/default.png',\n",
       " 'channelServiceType': 'STOREFARM',\n",
       " 'channelId': 500158087,\n",
       " 'reviewEvaluationValueSeqs': [],\n",
       " 'profileImageSourceType': 'DEFAULT',\n",
       " 'repThumbnailAttach': {'id': '3050097052',\n",
       "  'reviewAttachmentType': 'I',\n",
       "  'attachUrl': 'https://phinf.pstatic.net/checkout.phinf/20220916_47/1663326851042DRpMl_JPEG/20220916_162720.jpg',\n",
       "  'attachWidth': 3024,\n",
       "  'attachHeight': 4032,\n",
       "  'attachPath': 'https://phinf.pstatic.net/checkout.phinf/20220916_47/1663326851042DRpMl_JPEG/20220916_162720.jpg',\n",
       "  'attachSize': 3031471,\n",
       "  'attachDescription': '',\n",
       "  'sortOrder': 0,\n",
       "  'attachName': '20220916_162720.jpg',\n",
       "  'attachDirectoryName': '/20220916_47/1663326851042DRpMl_JPEG',\n",
       "  'attachmentType': 'I',\n",
       "  'width': 3024,\n",
       "  'height': 4032},\n",
       " 'repThumbnailTagNameDescription': {},\n",
       " 'merchantNo': '',\n",
       " 'merchantName': '',\n",
       " 'isMyReview': False}"
      ]
     },
     "execution_count": 43,
     "metadata": {},
     "output_type": "execute_result"
    }
   ],
   "source": [
    "data['contents'][0]"
   ]
  },
  {
   "cell_type": "code",
   "execution_count": 5,
   "metadata": {},
   "outputs": [
    {
     "data": {
      "text/plain": [
       "'감자빵을 받을때마다 저는감동하군합니다. 이번에도 얼음팩이 전혀녹지않은 상태로 신선한 식품으로 받았습니다. 매번 어떻게 이런신선도가 보장되는지 이번에 맘먹고 배송현황을 시간마다 자세히 지켜봤더니 신선한 식품을 고객에게 전달하기위해  늦은밤(10시이후) 밤에 택배사에 발송되도록하였고  식품포장부터 배송지에 도착될때까지는 20시간도 안되여 배송받았던것입니다.  내돈주고 구매하지만 이런 정성에 너무 감동하고 고마웠습니다.~이번 추석에 친정에 갈때 집에 있던 감자빵을 모두 가지고가서 친척분들께 시식을 시켰드렸는데 너무 맛있다고들 하시는데 제 기분이 엄청 좋더라구요~~~^^ 빵을 만드시는 분들 모두 건강하셔서 이빵을 평생 먹을수있게 해주면 좋겠십니다~~~고맙습니다!^^'"
      ]
     },
     "execution_count": 5,
     "metadata": {},
     "output_type": "execute_result"
    }
   ],
   "source": [
    "data['contents'][0]['reviewContent']"
   ]
  }
 ],
 "metadata": {
  "kernelspec": {
   "display_name": "Python 3.9.5 64-bit",
   "language": "python",
   "name": "python3"
  },
  "language_info": {
   "codemirror_mode": {
    "name": "ipython",
    "version": 3
   },
   "file_extension": ".py",
   "mimetype": "text/x-python",
   "name": "python",
   "nbconvert_exporter": "python",
   "pygments_lexer": "ipython3",
   "version": "3.9.5"
  },
  "orig_nbformat": 4,
  "vscode": {
   "interpreter": {
    "hash": "81794d4967e6c3204c66dcd87b604927b115b27c00565d3d43f05ba2f3a2cb0d"
   }
  }
 },
 "nbformat": 4,
 "nbformat_minor": 2
}
