{
 "cells": [
  {
   "cell_type": "code",
   "execution_count": 66,
   "metadata": {},
   "outputs": [],
   "source": [
    "import requests\n",
    "\n",
    "headers = {\n",
    "    'authority': 'smartstore.naver.com',\n",
    "    'accept': 'application/json, text/plain, */*',\n",
    "    'accept-language': 'ko',\n",
    "    'content-type': 'application/json;charset=UTF-8',\n",
    "    'origin': 'https://smartstore.naver.com',\n",
    "    'referer': 'https://smartstore.naver.com/cakefactoryd/products/6960829129',\n",
    "    'sec-ch-ua': '\"Microsoft Edge\";v=\"105\", \" Not;A Brand\";v=\"99\", \"Chromium\";v=\"105\"',\n",
    "    'sec-ch-ua-mobile': '?0',\n",
    "    'sec-ch-ua-platform': '\"Windows\"',\n",
    "    'sec-fetch-dest': 'empty',\n",
    "    'sec-fetch-mode': 'cors',\n",
    "    'sec-fetch-site': 'same-origin',\n",
    "    'user-agent': 'Mozilla/5.0 (Windows NT 10.0; Win64; x64) AppleWebKit/537.36 (KHTML, like Gecko) Chrome/105.0.0.0 Safari/537.36 Edg/105.0.1343.42',\n",
    "}\n",
    "\n",
    "json_data = {\n",
    "    'page': 1000,\n",
    "    'pageSize': 20,\n",
    "    'merchantNo': '500277973',\n",
    "    'originProductNo': '6927704063',\n",
    "    'sortType': 'REVIEW_RANKING',\n",
    "}\n",
    "\n",
    "response = requests.post('https://smartstore.naver.com/i/v1/reviews/paged-reviews', headers=headers, json=json_data)"
   ]
  },
  {
   "cell_type": "code",
   "execution_count": 67,
   "metadata": {},
   "outputs": [
    {
     "data": {
      "text/plain": [
       "'OK'"
      ]
     },
     "execution_count": 67,
     "metadata": {},
     "output_type": "execute_result"
    }
   ],
   "source": [
    "response.text"
   ]
  },
  {
   "cell_type": "code",
   "execution_count": 49,
   "metadata": {},
   "outputs": [
    {
     "data": {
      "text/plain": [
       "dict_keys(['contents', 'page', 'size', 'totalElements', 'totalPages', 'sort', 'first', 'last'])"
      ]
     },
     "execution_count": 49,
     "metadata": {},
     "output_type": "execute_result"
    }
   ],
   "source": [
    "data = response.json()\n",
    "data.keys()"
   ]
  },
  {
   "cell_type": "code",
   "execution_count": 50,
   "metadata": {},
   "outputs": [
    {
     "data": {
      "text/plain": [
       "21"
      ]
     },
     "execution_count": 50,
     "metadata": {},
     "output_type": "execute_result"
    }
   ],
   "source": [
    "data['totalPages']"
   ]
  },
  {
   "cell_type": "code",
   "execution_count": 51,
   "metadata": {},
   "outputs": [
    {
     "data": {
      "text/plain": [
       "'남자친구 예쁘다고 좋아해줬어요~\\n그래서 뿌듯하고 저도 좋았답니다!&hearts;︎\\n맛도 맛있었어요~\\n바닐라크림치즈(?) 왜이리 맛있는 거예요...\\n금방 질려해서 조각케이크 1개밖에 못 먹던 제가...\\n너무 맛있어서 다 먹어버릴 뻔 했어요.....ㅜㅜ\\n\\n조금 아쉬웠던 게 있다면..\\n1. 택배 아저씨가 그냥 문앞에만 놓고 가셨어요.\\n12~14시 사이에 온다고는 했지만 놓고 간 후로는 문자가 따로 없어서 계속 밖에 있을 뻔 했답니다..\\n(이건 택배사측 잘못이지요)\\n2. 밑에가 조금 삐뚤해서 도착했어요...\\n3. 성냥에 불이 잘 붙지 않았어요...\\n놀러가서 생일 축하하여 라이터도 없어\\n다른 사람에게 빌려서 축하했답니다...ㅜㅜ\\n\\n아쉬웠던 점이 조금 있었지만\\n디자인이며 맛이며 가격이며 크기까지 \\n전체적으로 너무 만족합니다~\\n그래서 케이크를 또 주문했어요~&hearts;︎\\n\\n이번에는 잘 왔으면 좋겠네용~!!^^'"
      ]
     },
     "execution_count": 51,
     "metadata": {},
     "output_type": "execute_result"
    }
   ],
   "source": [
    "data['contents'][0]['reviewContent']"
   ]
  },
  {
   "cell_type": "code",
   "execution_count": 52,
   "metadata": {},
   "outputs": [],
   "source": [
    "# data['contents'][0]"
   ]
  },
  {
   "cell_type": "code",
   "execution_count": 57,
   "metadata": {},
   "outputs": [
    {
     "data": {
      "text/plain": [
       "''"
      ]
     },
     "execution_count": 57,
     "metadata": {},
     "output_type": "execute_result"
    }
   ],
   "source": [
    "import requests\n",
    "\n",
    "cookies = {\n",
    "    'autocomplete': 'use',\n",
    "    'spage_uid': '',\n",
    "    'viewType': 'thumb',\n",
    "    'sus_val': 'Q8nkNrskenStQ4Ds3i8zEdXN',\n",
    "    'ncpa': '95694|l8igjn00|8d086b21fdb93942853f9f523c34117e37a314d2|95694|3feb134841ed3d2c9150fd315b526d47c0698d28',\n",
    "}\n",
    "\n",
    "headers = {\n",
    "    'authority': 'search.shopping.naver.com',\n",
    "    'accept': 'application/json, text/plain, */*',\n",
    "    'accept-language': 'ko',\n",
    "    # Requests sorts cookies= alphabetically\n",
    "    # 'cookie': 'autocomplete=use; spage_uid=; viewType=thumb; sus_val=Q8nkNrskenStQ4Ds3i8zEdXN; ncpa=95694|l8igjn00|8d086b21fdb93942853f9f523c34117e37a314d2|95694|3feb134841ed3d2c9150fd315b526d47c0698d28',\n",
    "    'referer': 'https://search.shopping.naver.com/catalog/5639964597?&NaPm=ct%3Dl8igjn00%7Cci%3D8d086b21fdb93942853f9f523c34117e37a314d2%7Ctr%3Dslcc%7Csn%3D95694%7Chk%3D8f723b64c80461a782475d89245651e4f4f09283',\n",
    "    'sec-ch-ua': '\"Microsoft Edge\";v=\"105\", \" Not;A Brand\";v=\"99\", \"Chromium\";v=\"105\"',\n",
    "    'sec-ch-ua-mobile': '?0',\n",
    "    'sec-ch-ua-platform': '\"Windows\"',\n",
    "    'sec-fetch-dest': 'empty',\n",
    "    'sec-fetch-mode': 'cors',\n",
    "    'sec-fetch-site': 'same-origin',\n",
    "    'user-agent': 'Mozilla/5.0 (Windows NT 10.0; Win64; x64) AppleWebKit/537.36 (KHTML, like Gecko) Chrome/105.0.0.0 Safari/537.36 Edg/105.0.1343.50',\n",
    "}\n",
    "\n",
    "params = {\n",
    "    'nvMid': '5639964597',\n",
    "    'reviewType': 'ALL',\n",
    "    'sort': 'QUALITY',\n",
    "    'isNeedAggregation': 'N',\n",
    "    'isApplyFilter': 'Y',\n",
    "    'page': '102',\n",
    "    'pageSize': '20',\n",
    "}\n",
    "\n",
    "response = requests.get('https://search.shopping.naver.com/api/review', params=params, headers=headers)\n",
    "response.text"
   ]
  }
 ],
 "metadata": {
  "kernelspec": {
   "display_name": "Python 3.9.5 64-bit",
   "language": "python",
   "name": "python3"
  },
  "language_info": {
   "codemirror_mode": {
    "name": "ipython",
    "version": 3
   },
   "file_extension": ".py",
   "mimetype": "text/x-python",
   "name": "python",
   "nbconvert_exporter": "python",
   "pygments_lexer": "ipython3",
   "version": "3.9.5"
  },
  "orig_nbformat": 4,
  "vscode": {
   "interpreter": {
    "hash": "81794d4967e6c3204c66dcd87b604927b115b27c00565d3d43f05ba2f3a2cb0d"
   }
  }
 },
 "nbformat": 4,
 "nbformat_minor": 2
}
