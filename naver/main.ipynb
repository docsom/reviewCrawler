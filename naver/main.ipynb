{
 "cells": [
  {
   "cell_type": "code",
   "execution_count": 1,
   "metadata": {},
   "outputs": [],
   "source": [
    "import requests\n",
    "\n",
    "headers = {\n",
    "    'authority': 'smartstore.naver.com',\n",
    "    'accept': 'application/json, text/plain, */*',\n",
    "    'accept-language': 'ko',\n",
    "    'content-type': 'application/json;charset=UTF-8',\n",
    "    'origin': 'https://smartstore.naver.com',\n",
    "    'referer': 'https://smartstore.naver.com/cakefactoryd/products/6960829129',\n",
    "    'sec-ch-ua': '\"Microsoft Edge\";v=\"105\", \" Not;A Brand\";v=\"99\", \"Chromium\";v=\"105\"',\n",
    "    'sec-ch-ua-mobile': '?0',\n",
    "    'sec-ch-ua-platform': '\"Windows\"',\n",
    "    'sec-fetch-dest': 'empty',\n",
    "    'sec-fetch-mode': 'cors',\n",
    "    'sec-fetch-site': 'same-origin',\n",
    "    'user-agent': 'Mozilla/5.0 (Windows NT 10.0; Win64; x64) AppleWebKit/537.36 (KHTML, like Gecko) Chrome/105.0.0.0 Safari/537.36 Edg/105.0.1343.42',\n",
    "}\n",
    "\n",
    "json_data = {\n",
    "    'page': 1,\n",
    "    'pageSize': 20,\n",
    "    'merchantNo': '500277973',\n",
    "    'originProductNo': '6927704063',\n",
    "    'sortType': 'REVIEW_RANKING',\n",
    "}\n",
    "\n",
    "response = requests.post('https://smartstore.naver.com/i/v1/reviews/paged-reviews', headers=headers, json=json_data)"
   ]
  },
  {
   "cell_type": "code",
   "execution_count": 2,
   "metadata": {},
   "outputs": [
    {
     "data": {
      "text/plain": [
       "dict_keys(['contents', 'page', 'size', 'totalElements', 'totalPages', 'sort', 'first', 'last'])"
      ]
     },
     "execution_count": 2,
     "metadata": {},
     "output_type": "execute_result"
    }
   ],
   "source": [
    "data = response.json()\n",
    "data.keys()"
   ]
  },
  {
   "cell_type": "code",
   "execution_count": 3,
   "metadata": {},
   "outputs": [],
   "source": [
    "# data['contents'][0]['reviewContent']"
   ]
  },
  {
   "cell_type": "code",
   "execution_count": 4,
   "metadata": {},
   "outputs": [],
   "source": [
    "from bs4 import BeautifulSoup\n",
    "from pprint import *\n",
    "category_id = 100002684\n",
    "page = 1\n",
    "url = 'https://search.shopping.naver.com/search/category/{}?origQuery&pagingIndex={}&pagingSize=80&productSet=total&query&sort=review&timestamp=&viewType=list'.format(category_id, page)\n",
    "\n",
    "headers = {\n",
    "    'authority': 'search.shopping.naver.com',\n",
    "    'accept': 'application/json, text/plain, */*',\n",
    "    'accept-language': 'ko',\n",
    "    'logic': 'PART',\n",
    "    'referer': url,\n",
    "    'sec-ch-ua': '\"Microsoft Edge\";v=\"105\", \" Not;A Brand\";v=\"99\", \"Chromium\";v=\"105\"',\n",
    "    'sec-ch-ua-mobile': '?0',\n",
    "    'sec-ch-ua-platform': '\"Windows\"',\n",
    "    'sec-fetch-dest': 'empty',\n",
    "    'sec-fetch-mode': 'cors',\n",
    "    'sec-fetch-site': 'same-origin',\n",
    "    'user-agent': 'Mozilla/5.0 (Windows NT 10.0; Win64; x64) AppleWebKit/537.36 (KHTML, like Gecko) Chrome/105.0.0.0 Safari/537.36 Edg/105.0.1343.50',\n",
    "}\n",
    "\n",
    "params = {\n",
    "    'sort': 'review',\n",
    "    'pagingIndex': '{}'.format(page),\n",
    "    'pagingSize': '80',\n",
    "    'viewType': 'list',\n",
    "    'productSet': 'total',\n",
    "    'catId': '50012960',\n",
    "    'spec': '',\n",
    "    'deliveryFee': '',\n",
    "    'deliveryTypeValue': '',\n",
    "    'iq': '',\n",
    "    'eq': '',\n",
    "    'xq': '',\n",
    "}\n",
    "\n",
    "response = requests.get('https://search.shopping.naver.com/api/search/category/{}'.format(category_id), params=params, headers=headers)"
   ]
  },
  {
   "cell_type": "code",
   "execution_count": 5,
   "metadata": {},
   "outputs": [],
   "source": [
    "response\n",
    "json_object = response.json()\n",
    "# pprint(json_object)"
   ]
  },
  {
   "cell_type": "code",
   "execution_count": 6,
   "metadata": {},
   "outputs": [
    {
     "name": "stdout",
     "output_type": "stream",
     "text": [
      "1314\n",
      "https://link.coupa\n"
     ]
    }
   ],
   "source": [
    "print(json_object['shoppingResult']['products'][70]['reviewCount'])\n",
    "print(json_object['shoppingResult']['products'][0]['mallProductUrl'][:18])"
   ]
  },
  {
   "cell_type": "code",
   "execution_count": 7,
   "metadata": {},
   "outputs": [
    {
     "data": {
      "text/plain": [
       "'c:\\\\Users\\\\CJ\\\\project\\\\review_crawler\\\\data\\\\naver'"
      ]
     },
     "execution_count": 7,
     "metadata": {},
     "output_type": "execute_result"
    }
   ],
   "source": [
    "import pandas as pd\n",
    "import os\n",
    "reviewNum, productNum = 0, 0\n",
    "os.chdir('c:\\\\Users\\\\CJ\\\\project\\\\review_crawler\\\\data\\\\naver')\n",
    "path = os.getcwd()\n",
    "path"
   ]
  },
  {
   "cell_type": "code",
   "execution_count": 28,
   "metadata": {},
   "outputs": [],
   "source": [
    "import requests\n",
    "\n",
    "# 간편조리식품\n",
    "category_id = 100002364\n",
    "catId = 50000026\n",
    "\n",
    "url = 'https://search.shopping.naver.com/search/category/{}?catId={}&origQuery&pagingSize=80&productSet=total&query&sort=review&timestamp=&viewType=thumb'.format(\n",
    "    category_id, catId\n",
    ")\n",
    "\n",
    "headers = {\n",
    "    'authority': 'search.shopping.naver.com',\n",
    "    'accept': 'application/json, text/plain, */*',\n",
    "    'accept-language': 'ko',\n",
    "    'logic': 'PART',\n",
    "    'referer': url,\n",
    "    'sec-ch-ua': '\"Not?A_Brand\";v=\"8\", \"Chromium\";v=\"108\", \"Microsoft Edge\";v=\"108\"',\n",
    "    'sec-ch-ua-mobile': '?0',\n",
    "    'sec-ch-ua-platform': '\"Windows\"',\n",
    "    'sec-fetch-dest': 'empty',\n",
    "    'sec-fetch-mode': 'cors',\n",
    "    'sec-fetch-site': 'same-origin',\n",
    "    'user-agent': 'Mozilla/5.0 (Windows NT 10.0; Win64; x64) AppleWebKit/537.36 (KHTML, like Gecko) Chrome/108.0.0.0 Safari/537.36 Edg/108.0.1462.54',\n",
    "}\n",
    "\n",
    "params = {\n",
    "    'sort': 'review',\n",
    "    'pagingIndex': '3',\n",
    "    'pagingSize': '80',\n",
    "    'viewType': 'thumb',\n",
    "    'productSet': 'model',\n",
    "    'catId': '{}'.format(catId),\n",
    "    'spec': '',\n",
    "    'deliveryFee': '',\n",
    "    'deliveryTypeValue': '',\n",
    "    'frm': 'NVSHMDL',\n",
    "    'iq': '',\n",
    "    'eq': '',\n",
    "    'xq': '',\n",
    "    'window': '',\n",
    "}\n",
    "\n",
    "response = requests.get(\n",
    "    'https://search.shopping.naver.com/api/search/category/{}'.format(category_id),\n",
    "    params=params,\n",
    "    headers=headers,\n",
    ")"
   ]
  },
  {
   "cell_type": "code",
   "execution_count": 32,
   "metadata": {},
   "outputs": [],
   "source": [
    "# response.json()"
   ]
  },
  {
   "cell_type": "code",
   "execution_count": 31,
   "metadata": {},
   "outputs": [
    {
     "data": {
      "text/plain": [
       "'c:\\\\Users\\\\CJ\\\\project\\\\review_crawler\\\\data\\\\naver'"
      ]
     },
     "execution_count": 31,
     "metadata": {},
     "output_type": "execute_result"
    }
   ],
   "source": [
    "os.getcwd()"
   ]
  }
 ],
 "metadata": {
  "kernelspec": {
   "display_name": "Python 3.9.5 64-bit",
   "language": "python",
   "name": "python3"
  },
  "language_info": {
   "codemirror_mode": {
    "name": "ipython",
    "version": 3
   },
   "file_extension": ".py",
   "mimetype": "text/x-python",
   "name": "python",
   "nbconvert_exporter": "python",
   "pygments_lexer": "ipython3",
   "version": "3.9.5"
  },
  "orig_nbformat": 4,
  "vscode": {
   "interpreter": {
    "hash": "81794d4967e6c3204c66dcd87b604927b115b27c00565d3d43f05ba2f3a2cb0d"
   }
  }
 },
 "nbformat": 4,
 "nbformat_minor": 2
}
