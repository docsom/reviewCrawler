{
 "cells": [
  {
   "cell_type": "code",
   "execution_count": 80,
   "metadata": {},
   "outputs": [],
   "source": [
    "import requests\n",
    "\n",
    "headers = {\n",
    "    'authority': 'smartstore.naver.com',\n",
    "    'accept': 'application/json, text/plain, */*',\n",
    "    'accept-language': 'ko',\n",
    "    'content-type': 'application/json;charset=UTF-8',\n",
    "    'origin': 'https://smartstore.naver.com',\n",
    "    'referer': 'https://smartstore.naver.com/cakefactoryd/products/6960829129',\n",
    "    'sec-ch-ua': '\"Microsoft Edge\";v=\"105\", \" Not;A Brand\";v=\"99\", \"Chromium\";v=\"105\"',\n",
    "    'sec-ch-ua-mobile': '?0',\n",
    "    'sec-ch-ua-platform': '\"Windows\"',\n",
    "    'sec-fetch-dest': 'empty',\n",
    "    'sec-fetch-mode': 'cors',\n",
    "    'sec-fetch-site': 'same-origin',\n",
    "    'user-agent': 'Mozilla/5.0 (Windows NT 10.0; Win64; x64) AppleWebKit/537.36 (KHTML, like Gecko) Chrome/105.0.0.0 Safari/537.36 Edg/105.0.1343.42',\n",
    "}\n",
    "\n",
    "json_data = {\n",
    "    'page': 19,\n",
    "    'pageSize': 20,\n",
    "    'merchantNo': '500277973',\n",
    "    'originProductNo': '6927704063',\n",
    "    'sortType': 'REVIEW_CREATE_DATE_DESC',\n",
    "}\n",
    "\n",
    "response = requests.post('https://smartstore.naver.com/i/v1/reviews/paged-reviews', headers=headers, json=json_data)"
   ]
  },
  {
   "cell_type": "code",
   "execution_count": 81,
   "metadata": {},
   "outputs": [
    {
     "data": {
      "text/plain": [
       "<Response [200]>"
      ]
     },
     "execution_count": 81,
     "metadata": {},
     "output_type": "execute_result"
    }
   ],
   "source": [
    "response"
   ]
  },
  {
   "cell_type": "code",
   "execution_count": 69,
   "metadata": {},
   "outputs": [
    {
     "data": {
      "text/plain": [
       "dict_keys(['contents', 'page', 'size', 'totalElements', 'totalPages', 'sort', 'first', 'last'])"
      ]
     },
     "execution_count": 69,
     "metadata": {},
     "output_type": "execute_result"
    }
   ],
   "source": [
    "data = response.json()\n",
    "data.keys()"
   ]
  },
  {
   "cell_type": "code",
   "execution_count": 70,
   "metadata": {},
   "outputs": [
    {
     "data": {
      "text/plain": [
       "19"
      ]
     },
     "execution_count": 70,
     "metadata": {},
     "output_type": "execute_result"
    }
   ],
   "source": [
    "data['totalPages']"
   ]
  },
  {
   "cell_type": "code",
   "execution_count": 82,
   "metadata": {},
   "outputs": [
    {
     "data": {
      "text/plain": [
       "'아담하고 귀엽네요ㅋㅋ곰돌이 초 꼭사세요.\\n맛은그닥:('"
      ]
     },
     "execution_count": 82,
     "metadata": {},
     "output_type": "execute_result"
    }
   ],
   "source": [
    "data['contents'][0]['reviewContent']"
   ]
  },
  {
   "cell_type": "code",
   "execution_count": 83,
   "metadata": {},
   "outputs": [
    {
     "data": {
      "text/plain": [
       "{'id': '4059537109',\n",
       " 'reviewType': 'NORMAL',\n",
       " 'reviewServiceType': 'SELLBLOG',\n",
       " 'reviewContentClassType': 'PHOTO',\n",
       " 'reviewScore': 4,\n",
       " 'reviewContent': '아담하고 귀엽네요ㅋㅋ곰돌이 초 꼭사세요.\\n맛은그닥:(',\n",
       " 'createDate': '2022-08-08T06:14:30.159+00:00',\n",
       " 'repurchase': False,\n",
       " 'reviewRankingScore': -70.579414,\n",
       " 'writerMemberNo': 0,\n",
       " 'checkoutMerchantId': '',\n",
       " 'checkoutMerchantNo': 0,\n",
       " 'orderNo': '',\n",
       " 'productOrderNo': '',\n",
       " 'productNo': '6960829129',\n",
       " 'productName': '레터링케이크 미니 서울 엄마 아빠 친구 생일 맞춤 수제 포토 주문제작 케이크 선물 14종',\n",
       " 'productUrl': 'https://smartstore.naver.com/main/products/6960829129',\n",
       " 'largeCategorizeCategoryId': '50000006',\n",
       " 'middleCategorizeCategoryId': '50000149',\n",
       " 'smallCategorizeCategoryId': '50013280',\n",
       " 'productOptionContentNoDisplay': False,\n",
       " 'productOptionContent': '희망 도착일 선택 (일월요일 배송불가): 8월5일 / 케이크디자인: 3.화이트폼폼 / 케익사이즈 (무료 사이즈업 행사중): SS (도시락케이크)',\n",
       " 'knowledgeShoppingMallProductId': '6960829129',\n",
       " 'originProductNo': 6927704063,\n",
       " 'reviewAttaches': [{'id': '3035049866',\n",
       "   'reviewAttachmentType': 'I',\n",
       "   'attachUrl': 'https://phinf.pstatic.net/checkout.phinf/20220808_140/1659939262002jYoXA_JPEG/20220805_173704.jpg',\n",
       "   'attachWidth': 3024,\n",
       "   'attachHeight': 4032,\n",
       "   'attachPath': 'https://phinf.pstatic.net/checkout.phinf/20220808_140/1659939262002jYoXA_JPEG/20220805_173704.jpg',\n",
       "   'attachSize': 4176315,\n",
       "   'attachDescription': '',\n",
       "   'sortOrder': 0,\n",
       "   'attachName': '20220805_173704.jpg',\n",
       "   'attachDirectoryName': '/20220808_140/1659939262002jYoXA_JPEG',\n",
       "   'attachmentType': 'I',\n",
       "   'width': 3024,\n",
       "   'height': 4032}],\n",
       " 'reviewCommentIds': [3010132917],\n",
       " 'reviewComments': [{'reviewId': '4059537109',\n",
       "   'commentContent': '안녕하세요~ 케익팩토리입니다! 💜\\n우선 저희케이크를 구매해주시고 이쁘고 소중한 후기 남겨주셔서 감사합니다! \\n귀여운 곰돌이 초 같이 하니까 너무 이쁘네요 ㅎㅎ 입맛에는 맞지 않으신거같아 아쉽지만 그래도 즐거운 시간 보내셨길 바랄게요! \\n앞으로도 케익팩토리 많은 관심 가져주세요!😁',\n",
       "   'createDate': '2022-08-08T07:52:46.777+00:00',\n",
       "   'writerMerchantId': '',\n",
       "   'writerMerchantNo': 0,\n",
       "   'id': 3010132917,\n",
       "   'displayStatusType': 'NORMAL',\n",
       "   'unescapeCommentContent': '안녕하세요~ 케익팩토리입니다! 💜\\n우선 저희케이크를 구매해주시고 이쁘고 소중한 후기 남겨주셔서 감사합니다! \\n귀여운 곰돌이 초 같이 하니까 너무 이쁘네요 ㅎㅎ 입맛에는 맞지 않으신거같아 아쉽지만 그래도 즐거운 시간 보내셨길 바랄게요! \\n앞으로도 케익팩토리 많은 관심 가져주세요!😁',\n",
       "   'reviewSeq': 4059537109,\n",
       "   'reviewCommentId': 3010132917,\n",
       "   'reviewCommentDisplayStatusType': 'NORMAL'}],\n",
       " 'reviewTopics': [{'topicCode': 'total',\n",
       "   'topicCodeName': '만족도',\n",
       "   'patternStartNo': 0,\n",
       "   'patternEndNo': 8,\n",
       "   'startIdx': 0,\n",
       "   'endIdx': 8}],\n",
       " 'eventTitle': '',\n",
       " 'reviewDisplayStatusType': 'NORMAL',\n",
       " 'freeTrialReview': False,\n",
       " 'writerMemberId': 'junw******',\n",
       " 'writerMemberMaskedId': 'junw******',\n",
       " 'writerMemberIdNo': '',\n",
       " 'writerMemberProfileImageUrl': 'https://profile-phinf.pstatic.net/404/default.png',\n",
       " 'channelServiceType': 'STOREFARM',\n",
       " 'channelId': 500277973,\n",
       " 'reviewEvaluationValueSeqs': [],\n",
       " 'profileImageSourceType': 'DEFAULT',\n",
       " 'repThumbnailAttach': {'id': '3035049866',\n",
       "  'reviewAttachmentType': 'I',\n",
       "  'attachUrl': 'https://phinf.pstatic.net/checkout.phinf/20220808_140/1659939262002jYoXA_JPEG/20220805_173704.jpg',\n",
       "  'attachWidth': 3024,\n",
       "  'attachHeight': 4032,\n",
       "  'attachPath': 'https://phinf.pstatic.net/checkout.phinf/20220808_140/1659939262002jYoXA_JPEG/20220805_173704.jpg',\n",
       "  'attachSize': 4176315,\n",
       "  'attachDescription': '',\n",
       "  'sortOrder': 0,\n",
       "  'attachName': '20220805_173704.jpg',\n",
       "  'attachDirectoryName': '/20220808_140/1659939262002jYoXA_JPEG',\n",
       "  'attachmentType': 'I',\n",
       "  'width': 3024,\n",
       "  'height': 4032},\n",
       " 'repThumbnailTagNameDescription': {},\n",
       " 'merchantNo': '',\n",
       " 'merchantName': '',\n",
       " 'isMyReview': False}"
      ]
     },
     "execution_count": 83,
     "metadata": {},
     "output_type": "execute_result"
    }
   ],
   "source": [
    "data['contents'][0]"
   ]
  }
 ],
 "metadata": {
  "kernelspec": {
   "display_name": "Python 3.9.5 64-bit",
   "language": "python",
   "name": "python3"
  },
  "language_info": {
   "codemirror_mode": {
    "name": "ipython",
    "version": 3
   },
   "file_extension": ".py",
   "mimetype": "text/x-python",
   "name": "python",
   "nbconvert_exporter": "python",
   "pygments_lexer": "ipython3",
   "version": "3.9.5"
  },
  "orig_nbformat": 4,
  "vscode": {
   "interpreter": {
    "hash": "81794d4967e6c3204c66dcd87b604927b115b27c00565d3d43f05ba2f3a2cb0d"
   }
  }
 },
 "nbformat": 4,
 "nbformat_minor": 2
}
