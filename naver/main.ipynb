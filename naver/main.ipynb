{
 "cells": [
  {
   "cell_type": "code",
   "execution_count": 2,
   "metadata": {},
   "outputs": [],
   "source": [
    "import requests\n",
    "\n",
    "headers = {\n",
    "    'authority': 'smartstore.naver.com',\n",
    "    'accept': 'application/json, text/plain, */*',\n",
    "    'accept-language': 'ko',\n",
    "    'content-type': 'application/json;charset=UTF-8',\n",
    "    'origin': 'https://smartstore.naver.com',\n",
    "    'referer': 'https://smartstore.naver.com/cakefactoryd/products/6960829129',\n",
    "    'sec-ch-ua': '\"Microsoft Edge\";v=\"105\", \" Not;A Brand\";v=\"99\", \"Chromium\";v=\"105\"',\n",
    "    'sec-ch-ua-mobile': '?0',\n",
    "    'sec-ch-ua-platform': '\"Windows\"',\n",
    "    'sec-fetch-dest': 'empty',\n",
    "    'sec-fetch-mode': 'cors',\n",
    "    'sec-fetch-site': 'same-origin',\n",
    "    'user-agent': 'Mozilla/5.0 (Windows NT 10.0; Win64; x64) AppleWebKit/537.36 (KHTML, like Gecko) Chrome/105.0.0.0 Safari/537.36 Edg/105.0.1343.42',\n",
    "}\n",
    "\n",
    "json_data = {\n",
    "    'page': 1,\n",
    "    'pageSize': 20,\n",
    "    'merchantNo': '500277973',\n",
    "    'originProductNo': '6927704063',\n",
    "    'sortType': 'REVIEW_RANKING',\n",
    "}\n",
    "\n",
    "response = requests.post('https://smartstore.naver.com/i/v1/reviews/paged-reviews', headers=headers, json=json_data)"
   ]
  },
  {
   "cell_type": "code",
   "execution_count": 3,
   "metadata": {},
   "outputs": [
    {
     "data": {
      "text/plain": [
       "dict_keys(['contents', 'page', 'size', 'totalElements', 'totalPages', 'sort', 'first', 'last'])"
      ]
     },
     "execution_count": 3,
     "metadata": {},
     "output_type": "execute_result"
    }
   ],
   "source": [
    "data = response.json()\n",
    "data.keys()"
   ]
  },
  {
   "cell_type": "code",
   "execution_count": 4,
   "metadata": {},
   "outputs": [],
   "source": [
    "# data['contents'][0]['reviewContent']"
   ]
  },
  {
   "cell_type": "code",
   "execution_count": 5,
   "metadata": {},
   "outputs": [],
   "source": [
    "from bs4 import BeautifulSoup\n",
    "from pprint import *\n",
    "category_id = 100002684\n",
    "page = 1\n",
    "url = 'https://search.shopping.naver.com/search/category/{}?origQuery&pagingIndex={}&pagingSize=80&productSet=total&query&sort=review&timestamp=&viewType=list'.format(category_id, page)\n",
    "\n",
    "headers = {\n",
    "    'authority': 'search.shopping.naver.com',\n",
    "    'accept': 'application/json, text/plain, */*',\n",
    "    'accept-language': 'ko',\n",
    "    'logic': 'PART',\n",
    "    'referer': url,\n",
    "    'sec-ch-ua': '\"Microsoft Edge\";v=\"105\", \" Not;A Brand\";v=\"99\", \"Chromium\";v=\"105\"',\n",
    "    'sec-ch-ua-mobile': '?0',\n",
    "    'sec-ch-ua-platform': '\"Windows\"',\n",
    "    'sec-fetch-dest': 'empty',\n",
    "    'sec-fetch-mode': 'cors',\n",
    "    'sec-fetch-site': 'same-origin',\n",
    "    'user-agent': 'Mozilla/5.0 (Windows NT 10.0; Win64; x64) AppleWebKit/537.36 (KHTML, like Gecko) Chrome/105.0.0.0 Safari/537.36 Edg/105.0.1343.50',\n",
    "}\n",
    "\n",
    "params = {\n",
    "    'sort': 'review',\n",
    "    'pagingIndex': '{}'.format(page),\n",
    "    'pagingSize': '80',\n",
    "    'viewType': 'list',\n",
    "    'productSet': 'total',\n",
    "    'catId': '50012960',\n",
    "    'spec': '',\n",
    "    'deliveryFee': '',\n",
    "    'deliveryTypeValue': '',\n",
    "    'iq': '',\n",
    "    'eq': '',\n",
    "    'xq': '',\n",
    "}\n",
    "\n",
    "response = requests.get('https://search.shopping.naver.com/api/search/category/{}'.format(category_id), params=params, headers=headers)"
   ]
  },
  {
   "cell_type": "code",
   "execution_count": 6,
   "metadata": {},
   "outputs": [],
   "source": [
    "response\n",
    "json_object = response.json()\n",
    "# pprint(json_object)"
   ]
  },
  {
   "cell_type": "code",
   "execution_count": 7,
   "metadata": {},
   "outputs": [
    {
     "name": "stdout",
     "output_type": "stream",
     "text": [
      "1369\n",
      "https://kr.iherb.c\n"
     ]
    }
   ],
   "source": [
    "print(json_object['shoppingResult']['products'][70]['reviewCount'])\n",
    "print(json_object['shoppingResult']['products'][0]['mallProductUrl'][:18])"
   ]
  },
  {
   "cell_type": "code",
   "execution_count": 8,
   "metadata": {},
   "outputs": [
    {
     "data": {
      "text/plain": [
       "'c:\\\\Users\\\\CJ\\\\project\\\\review_crawler\\\\data\\\\naver'"
      ]
     },
     "execution_count": 8,
     "metadata": {},
     "output_type": "execute_result"
    }
   ],
   "source": [
    "import pandas as pd\n",
    "import os\n",
    "reviewNum, productNum = 0, 0\n",
    "os.chdir('c:\\\\Users\\\\CJ\\\\project\\\\review_crawler\\\\data\\\\naver')\n",
    "path = os.getcwd()\n",
    "path"
   ]
  },
  {
   "cell_type": "code",
   "execution_count": 9,
   "metadata": {},
   "outputs": [],
   "source": [
    "import requests\n",
    "\n",
    "# 간편조리식품\n",
    "category_id = 100002364\n",
    "catId = 50000026\n",
    "\n",
    "url = 'https://search.shopping.naver.com/search/category/{}?catId={}&origQuery&pagingSize=80&productSet=total&query&sort=review&timestamp=&viewType=thumb'.format(\n",
    "    category_id, catId\n",
    ")\n",
    "\n",
    "headers = {\n",
    "    'authority': 'search.shopping.naver.com',\n",
    "    'accept': 'application/json, text/plain, */*',\n",
    "    'accept-language': 'ko',\n",
    "    'logic': 'PART',\n",
    "    'referer': url,\n",
    "    'sec-ch-ua': '\"Not?A_Brand\";v=\"8\", \"Chromium\";v=\"108\", \"Microsoft Edge\";v=\"108\"',\n",
    "    'sec-ch-ua-mobile': '?0',\n",
    "    'sec-ch-ua-platform': '\"Windows\"',\n",
    "    'sec-fetch-dest': 'empty',\n",
    "    'sec-fetch-mode': 'cors',\n",
    "    'sec-fetch-site': 'same-origin',\n",
    "    'user-agent': 'Mozilla/5.0 (Windows NT 10.0; Win64; x64) AppleWebKit/537.36 (KHTML, like Gecko) Chrome/108.0.0.0 Safari/537.36 Edg/108.0.1462.54',\n",
    "}\n",
    "\n",
    "params = {\n",
    "    'sort': 'review',\n",
    "    'pagingIndex': '200',\n",
    "    'pagingSize': '80',\n",
    "    'viewType': 'thumb',\n",
    "    'productSet': 'model',\n",
    "    'catId': '{}'.format(catId),\n",
    "    'spec': '',\n",
    "    'deliveryFee': '',\n",
    "    'deliveryTypeValue': '',\n",
    "    'frm': 'NVSHMDL',\n",
    "    'iq': '',\n",
    "    'eq': '',\n",
    "    'xq': '',\n",
    "    'window': '',\n",
    "}\n",
    "\n",
    "response = requests.get(\n",
    "    'https://search.shopping.naver.com/api/search/category/{}'.format(category_id),\n",
    "    params=params,\n",
    "    headers=headers,\n",
    ")"
   ]
  },
  {
   "cell_type": "code",
   "execution_count": 10,
   "metadata": {},
   "outputs": [
    {
     "data": {
      "text/plain": [
       "200"
      ]
     },
     "execution_count": 10,
     "metadata": {},
     "output_type": "execute_result"
    }
   ],
   "source": [
    "response.status_code"
   ]
  },
  {
   "cell_type": "code",
   "execution_count": 11,
   "metadata": {},
   "outputs": [
    {
     "data": {
      "text/plain": [
       "'진푸드 감자콕콕 감자핫도그 130g x 5개입 650g'"
      ]
     },
     "execution_count": 11,
     "metadata": {},
     "output_type": "execute_result"
    }
   ],
   "source": [
    "json_object = response.json()\n",
    "# json_object['shoppingResult']['products'][0]['smryReview']\n",
    "# json_object\n",
    "json_object['shoppingResult']['products'][0]['productName']"
   ]
  },
  {
   "cell_type": "code",
   "execution_count": 12,
   "metadata": {},
   "outputs": [
    {
     "data": {
      "text/plain": [
       "1757"
      ]
     },
     "execution_count": 12,
     "metadata": {},
     "output_type": "execute_result"
    }
   ],
   "source": [
    "totalPages = json_object['productSetFilter']['filterValues'][1]['productCount']//80\n",
    "totalPages"
   ]
  },
  {
   "cell_type": "code",
   "execution_count": 89,
   "metadata": {},
   "outputs": [],
   "source": [
    "headers = {\n",
    "    'authority': 'search.shopping.naver.com',\n",
    "    'accept': 'application/json, text/plain, */*',\n",
    "    'accept-language': 'ko',\n",
    "    'referer': 'https://search.shopping.naver.com/catalog/10776362971?&NaPm=ct%3Dlc5hsjgw%7Cci%3D83efe387904990529fcdc33f8a68795732f013d5%7Ctr%3Dslcc%7Csn%3D95694%7Chk%3D66184f88ad89aa7ddeac94bb0617fdf5ca0abbd9',\n",
    "    'sec-ch-ua': '\"Not?A_Brand\";v=\"8\", \"Chromium\";v=\"108\", \"Microsoft Edge\";v=\"108\"',\n",
    "    'sec-ch-ua-mobile': '?0',\n",
    "    'sec-ch-ua-platform': '\"Windows\"',\n",
    "    'sec-fetch-dest': 'empty',\n",
    "    'sec-fetch-mode': 'cors',\n",
    "    'sec-fetch-site': 'same-origin',\n",
    "    'user-agent': 'Mozilla/5.0 (Windows NT 10.0; Win64; x64) AppleWebKit/537.36 (KHTML, like Gecko) Chrome/108.0.0.0 Safari/537.36 Edg/108.0.1462.54',\n",
    "}\n",
    "\n",
    "params = {\n",
    "    'nvMid': '10776362971',\n",
    "    'topicCode': 'taste',\n",
    "    'reviewType': 'ALL',\n",
    "    'sort': 'QUALITY',\n",
    "    'isNeedAggregation': 'Y',\n",
    "    'isApplyFilter': 'Y',\n",
    "    'page': '1',\n",
    "    'pageSize': '20',\n",
    "}\n",
    "\n",
    "response = requests.get('https://search.shopping.naver.com/api/review', params=params, headers=headers)"
   ]
  },
  {
   "cell_type": "code",
   "execution_count": 100,
   "metadata": {},
   "outputs": [
    {
     "data": {
      "text/plain": [
       "'10776362971'"
      ]
     },
     "execution_count": 100,
     "metadata": {},
     "output_type": "execute_result"
    }
   ],
   "source": [
    "url = 'https://search.shopping.naver.com/catalog/10776362971?&NaPm=ct%3Dlc5hsjgw%7Cci%3D83efe387904990529fcdc33f8a68795732f013d5%7Ctr%3Dslcc%7Csn%3D95694%7Chk%3D66184f88ad89aa7ddeac94bb0617fdf5ca0abbd9'\n",
    "tmp = url.split('?')[0]\n",
    "num = tmp.split('/')[-1]\n",
    "num"
   ]
  },
  {
   "cell_type": "code",
   "execution_count": 292,
   "metadata": {},
   "outputs": [],
   "source": [
    "a = response.json()\n",
    "review = a['reviews']\n"
   ]
  },
  {
   "cell_type": "code",
   "execution_count": 117,
   "metadata": {},
   "outputs": [
    {
     "data": {
      "text/plain": [
       "['유통기한: 2021.02.19',\n",
       " '같이 주문한 다른제품들 유통기한이보통 03~06월 까지로 02월인 순대국이 가장 짧네요</em>그래도 ',\n",
       " '반개월 이후니 나쁘진 않은것 같아요</em>순대국은 주로 순대만을 시켜먹는데직접 사먹는것에 ',\n",
       " '비하면순대가 좀 탱탱하진 않고</em>병천순대 먹는 마냥 순대가 좀 흐물한 감이 있어요세어보니 5개가 들어 있었어요부속 내용물은 나쁘지 않게 잘 들어 있어요원래 ',\n",
       " '순대국은 순대만 먹는데이렇게 먹어보니 나쁘진 않네요</em>',\n",
       " '부속물들 맛있어요</em>',\n",
       " '김치나 깍두기와 함께 먹는걸 추천해요</em>분리수거 하려면 용기 데우고 나서 씻을때가 참 곤욕인데',\n",
       " '순대국은 그나마 좀 깔끔했어요</em>먹기엔 좋은데 육개장류가 씻고 나서 기름하고 고추장이랄까요',\n",
       " '양념이 진한</em>게 많아서 세제에 불리고 씻으면 좀 낫긴한데아무래도 수세미에 좀 많이 묻어나서신경이 쓰이긴 하네요이럴경우 별도로 세제 불리기를 하기도 하지만일회용 수세미를 사야하나 싶은생각이 들었어요용기 씻는 것 빼곤 나쁘진 않았어요']"
      ]
     },
     "execution_count": 117,
     "metadata": {},
     "output_type": "execute_result"
    }
   ],
   "source": [
    "content = review['content']\n",
    "content.split('<em>')"
   ]
  },
  {
   "cell_type": "code",
   "execution_count": 289,
   "metadata": {},
   "outputs": [
    {
     "name": "stdout",
     "output_type": "stream",
     "text": [
      "1354\n"
     ]
    }
   ],
   "source": [
    "from bs4 import BeautifulSoup\n",
    "sent2 = '내가 더 꼼꼼히 살펴보고 사지 못한 잘못도 있지만, 이 제품 기본적으로 <em>포장선전문구의 개선이 필요해보여요</em>.\\r<br>정말 순수하게 건더기 하나 없이, 국물만 있을 줄은 몰랐어요.\\r<br>제품에도 조금 작은 글씨로 밑국물용?이라고 써져 있는데, 그걸 크게 써놨어야지 하는 아쉬움이 드네요.\\r<br>보통 이런 레트로 제품 사는 이유가 반찬이 없어서 한끼 떼우려고 사먹는 건데,\\r<br>정말 달랑 하얀 국물만 있기 때문에 한끼용으로는 부족해요. 물 대신 하얀 국물에 밥 말아먹는 느낌?\\r<br>제품 뒷면에, 응용법이라고 해서 만두를 넣어 만둣국을 만들라고 하는데, 이것도 상술같고..\\r<br>2+1이라서 하나 먹고 이제 두개 남았는데, 어쨌든 만두를 또 사서 만둣국으로 먹긴 해야할 것 같아요.\\r<br>그렇지 않아도 비비고에 사골곰탕도 있고 갈비탕도 있고 뭐 비슷한게 몇개 있어서 무슨 차이지 미묘한 맛 차이가 있나\\r<br>하면서 산건데ㅜ \\r<br>그렇지만 치아가 안 좋거나 한 분들은 이 제품이 딱일 수도 있을 것 같아요.\\r<br>맛은, <em>간은 딱 맞고 고소해요</em>. \\r<br>아무튼 저처럼 진짜 식당가서 먹는 곰탕 생각하고 샀다가 낭패보는 분들 없길 바래요.\\r<br>'\n",
    "# len(sent)\n",
    "# result = bytes(sent, 'utf-8')\n",
    "# len(result)\n",
    "sent = '항상 즐겨먹는 생활 필수품입니다.<br>타제품보다 진하고 짜지않고<br>양도 넉넉해서 떨어지지않게<br>구매해놓습니다.<br><br>가격이 좀 비싸긴 한데,<br>본사직영으로 싸게 잘 구매했네요~!!<br>자주 해주셨으면 좋겠네요.<br><br>저희는 주로 만두국과 전골국물로<br>사용하는데 별도 간이 필요없이<br>적당하게 간이 딱 맞습니다.<br><br>싱겁게 먹는 편이라 짜게드시는<br>분들께는 싱거울수도 있지만<br>보통 딱 좋은것같아요.<br><br>용량도 2인분정도 딱좋아<br>두식구 한끼육수로 적당합니다.<br><br>유통기한도 1년으로 길어<br>2박스 18개씩 자신있게 구매했는데<br>좀더 구매할것 그랬나봐요~!!<br><br>연구해서 더많은 요리에 사용해야겠어요.<br>맛있는 사골육수 잘먹겠습니다~ㅎ'\n",
    "len(sent)\n",
    "sent2 = sent2.replace('<em>', '')\n",
    "sent2 = sent2.replace('</em>', '')\n",
    "result = bytes(sent2, 'utf-8')\n",
    "print(len(result))\n",
    "sent3 = '유통기한: 2021.02.19<em>같이 주문한 다른제품들 유통기한이보통 03~06월 까지로 02월인 순대국이 가장 짧네요</em>그래도 <em>반개월 이후니 나쁘진 않은것 같아요</em>순대국은 주로 순대만을 시켜먹는데직접 사먹는것에 <em>비하면순대가 좀 탱탱하진 않고</em>병천순대 먹는 마냥 순대가 좀 흐물한 감이 있어요세어보니 5개가 들어 있었어요부속 내용물은 나쁘지 않게 잘 들어 있어요원래 <em>순대국은 순대만 먹는데이렇게 먹어보니 나쁘진 않네요</em><em>부속물들 맛있어요</em><em>김치나 깍두기와 함께 먹는걸 추천해요</em>분리수거 하려면 용기 데우고 나서 씻을때가 참 곤욕인데<em>순대국은 그나마 좀 깔끔했어요</em>먹기엔 좋은데 육개장류가 씻고 나서 기름하고 고추장이랄까요<em>양념이 진한</em>게 많아서 세제에 불리고 씻으면 좀 낫긴한데아무래도 수세미에 좀 많이 묻어나서신경이 쓰이긴 하네요이럴경우 별도로 세제 불리기를 하기도 하지만일회용 수세미를 사야하나 싶은생각이 들었어요용기 씻는 것 빼곤 나쁘진 않았어요'\n",
    "\n"
   ]
  },
  {
   "cell_type": "code",
   "execution_count": 291,
   "metadata": {},
   "outputs": [
    {
     "data": {
      "text/plain": [
       "'간은 딱 맞고 고소해요'"
      ]
     },
     "execution_count": 291,
     "metadata": {},
     "output_type": "execute_result"
    }
   ],
   "source": [
    "a = result[1198:1228]\n",
    "a.decode('utf-8')"
   ]
  },
  {
   "cell_type": "code",
   "execution_count": 283,
   "metadata": {},
   "outputs": [
    {
     "data": {
      "text/plain": [
       "'내가 더 꼼꼼히 살펴보고 사지 못한 잘못도 있지만, 이 제품 기본적으로 <em>포장선전문구의 개선이 필요해보여요</em>.\\r<br>정말 순수하게 건더기 하나 없이, 국물만 있을 줄은 몰랐어요.\\r<br>제품에도 조금 작은 글씨로 밑국물용?이라고 써져 있는데, 그걸 크게 써놨어야지 하는 아쉬움이 드네요.\\r<br>보통 이런 레트로 제품 사는 이유가 반찬이 없어서 한끼 떼우려고 사먹는 건데,\\r<br>정말 달랑 하얀 국물만 있기 때문에 한끼용으로는 부족해요. 물 대신 하얀 국물에 밥 말아먹는 느낌?\\r<br>제품 뒷면에, 응용법이라고 해서 만두를 넣어 만둣국을 만들라고 하는데, 이것도 상술같고..\\r<br>2+1이라서 하나 먹고 이제 두개 남았는데, 어쨌든 만두를 또 사서 만둣국으로 먹긴 해야할 것 같아요.\\r<br>그렇지 않아도 비비고에 사골곰탕도 있고 갈비탕도 있고 뭐 비슷한게 몇개 있어서 무슨 차이지 미묘한 맛 차이가 있나\\r<br>하면서 산건데ㅜ \\r<br>그렇지만 치아가 안 좋거나 한 분들은 이 제품이 딱일 수도 있을 것 같아요.\\r<br>맛은, <em>간은 딱 맞고 고소해요</em>. \\r<br>아무튼 저처럼 진짜 식당가서 먹는 곰탕 생각하고 샀다가 낭패보는 분들 없길 바래요.\\r<br>'"
      ]
     },
     "execution_count": 283,
     "metadata": {},
     "output_type": "execute_result"
    }
   ],
   "source": [
    "# sent2 = sent2.replace('<em>', '')\n",
    "# sent2 = sent2.replace('</em>', '')\n",
    "# sent2 = sent2.replace('\\r', '')\n",
    "sent2\n"
   ]
  },
  {
   "cell_type": "code",
   "execution_count": 284,
   "metadata": {},
   "outputs": [
    {
     "data": {
      "text/plain": [
       "내가 더 꼼꼼히 살펴보고 사지 못한 잘못도 있지만, 이 제품 기본적으로 <em>포장선전문구의 개선이 필요해보여요</em>.\n",
       "<br/>정말 순수하게 건더기 하나 없이, 국물만 있을 줄은 몰랐어요.\n",
       "<br/>제품에도 조금 작은 글씨로 밑국물용?이라고 써져 있는데, 그걸 크게 써놨어야지 하는 아쉬움이 드네요.\n",
       "<br/>보통 이런 레트로 제품 사는 이유가 반찬이 없어서 한끼 떼우려고 사먹는 건데,\n",
       "<br/>정말 달랑 하얀 국물만 있기 때문에 한끼용으로는 부족해요. 물 대신 하얀 국물에 밥 말아먹는 느낌?\n",
       "<br/>제품 뒷면에, 응용법이라고 해서 만두를 넣어 만둣국을 만들라고 하는데, 이것도 상술같고..\n",
       "<br/>2+1이라서 하나 먹고 이제 두개 남았는데, 어쨌든 만두를 또 사서 만둣국으로 먹긴 해야할 것 같아요.\n",
       "<br/>그렇지 않아도 비비고에 사골곰탕도 있고 갈비탕도 있고 뭐 비슷한게 몇개 있어서 무슨 차이지 미묘한 맛 차이가 있나\n",
       "<br/>하면서 산건데ㅜ \n",
       "<br/>그렇지만 치아가 안 좋거나 한 분들은 이 제품이 딱일 수도 있을 것 같아요.\n",
       "<br/>맛은, <em>간은 딱 맞고 고소해요</em>. \n",
       "<br/>아무튼 저처럼 진짜 식당가서 먹는 곰탕 생각하고 샀다가 낭패보는 분들 없길 바래요.\n",
       "<br/>"
      ]
     },
     "execution_count": 284,
     "metadata": {},
     "output_type": "execute_result"
    }
   ],
   "source": [
    "soup = BeautifulSoup(sent2, \"html.parser\")\n",
    "soup"
   ]
  },
  {
   "cell_type": "code",
   "execution_count": 286,
   "metadata": {},
   "outputs": [
    {
     "data": {
      "text/plain": [
       "'내가 더 꼼꼼히 살펴보고 사지 못한 잘못도 있지만, 이 제품 기본적으로 포장선전문구의 개선이 필요해보여요.정말 순수하게 건더기 하나 없이, 국물만 있을 줄은 몰랐어요.제품에도 조금 작은 글씨로 밑국물용?이라고 써져 있는데, 그걸 크게 써놨어야지 하는 아쉬움이 드네요.보통 이런 레트로 제품 사는 이유가 반찬이 없어서 한끼 떼우려고 사먹는 건데,정말 달랑 하얀 국물만 있기 때문에 한끼용으로는 부족해요. 물 대신 하얀 국물에 밥 말아먹는 느낌?제품 뒷면에, 응용법이라고 해서 만두를 넣어 만둣국을 만들라고 하는데, 이것도 상술같고..2+1이라서 하나 먹고 이제 두개 남았는데, 어쨌든 만두를 또 사서 만둣국으로 먹긴 해야할 것 같아요.그렇지 않아도 비비고에 사골곰탕도 있고 갈비탕도 있고 뭐 비슷한게 몇개 있어서 무슨 차이지 미묘한 맛 차이가 있나하면서 산건데ㅜ 그렇지만 치아가 안 좋거나 한 분들은 이 제품이 딱일 수도 있을 것 같아요.맛은, 간은 딱 맞고 고소해요. 아무튼 저처럼 진짜 식당가서 먹는 곰탕 생각하고 샀다가 낭패보는 분들 없길 바래요.'"
      ]
     },
     "execution_count": 286,
     "metadata": {},
     "output_type": "execute_result"
    }
   ],
   "source": [
    "soup.get_text().replace('\\r', '')"
   ]
  }
 ],
 "metadata": {
  "kernelspec": {
   "display_name": "Python 3.9.5 64-bit",
   "language": "python",
   "name": "python3"
  },
  "language_info": {
   "codemirror_mode": {
    "name": "ipython",
    "version": 3
   },
   "file_extension": ".py",
   "mimetype": "text/x-python",
   "name": "python",
   "nbconvert_exporter": "python",
   "pygments_lexer": "ipython3",
   "version": "3.9.5"
  },
  "orig_nbformat": 4,
  "vscode": {
   "interpreter": {
    "hash": "81794d4967e6c3204c66dcd87b604927b115b27c00565d3d43f05ba2f3a2cb0d"
   }
  }
 },
 "nbformat": 4,
 "nbformat_minor": 2
}
